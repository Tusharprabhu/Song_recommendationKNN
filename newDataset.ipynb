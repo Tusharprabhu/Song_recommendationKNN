{
  "nbformat": 4,
  "nbformat_minor": 0,
  "metadata": {
    "colab": {
      "provenance": []
    },
    "kernelspec": {
      "name": "python3",
      "display_name": "Python 3"
    },
    "language_info": {
      "name": "python"
    }
  },
  "cells": [
    {
      "cell_type": "code",
      "execution_count": 1,
      "metadata": {
        "colab": {
          "base_uri": "https://localhost:8080/"
        },
        "id": "jTvjaLbOowdK",
        "outputId": "4d69ce5a-edcd-460b-c2ed-1bbf5ccd4126"
      },
      "outputs": [
        {
          "output_type": "stream",
          "name": "stdout",
          "text": [
            "Requirement already satisfied: kagglehub[pandas-datasets] in /usr/local/lib/python3.11/dist-packages (0.3.11)\n",
            "Requirement already satisfied: packaging in /usr/local/lib/python3.11/dist-packages (from kagglehub[pandas-datasets]) (24.2)\n",
            "Requirement already satisfied: pyyaml in /usr/local/lib/python3.11/dist-packages (from kagglehub[pandas-datasets]) (6.0.2)\n",
            "Requirement already satisfied: requests in /usr/local/lib/python3.11/dist-packages (from kagglehub[pandas-datasets]) (2.32.3)\n",
            "Requirement already satisfied: tqdm in /usr/local/lib/python3.11/dist-packages (from kagglehub[pandas-datasets]) (4.67.1)\n",
            "Requirement already satisfied: pandas in /usr/local/lib/python3.11/dist-packages (from kagglehub[pandas-datasets]) (2.2.2)\n",
            "Requirement already satisfied: numpy>=1.23.2 in /usr/local/lib/python3.11/dist-packages (from pandas->kagglehub[pandas-datasets]) (2.0.2)\n",
            "Requirement already satisfied: python-dateutil>=2.8.2 in /usr/local/lib/python3.11/dist-packages (from pandas->kagglehub[pandas-datasets]) (2.8.2)\n",
            "Requirement already satisfied: pytz>=2020.1 in /usr/local/lib/python3.11/dist-packages (from pandas->kagglehub[pandas-datasets]) (2025.2)\n",
            "Requirement already satisfied: tzdata>=2022.7 in /usr/local/lib/python3.11/dist-packages (from pandas->kagglehub[pandas-datasets]) (2025.2)\n",
            "Requirement already satisfied: charset-normalizer<4,>=2 in /usr/local/lib/python3.11/dist-packages (from requests->kagglehub[pandas-datasets]) (3.4.1)\n",
            "Requirement already satisfied: idna<4,>=2.5 in /usr/local/lib/python3.11/dist-packages (from requests->kagglehub[pandas-datasets]) (3.10)\n",
            "Requirement already satisfied: urllib3<3,>=1.21.1 in /usr/local/lib/python3.11/dist-packages (from requests->kagglehub[pandas-datasets]) (2.3.0)\n",
            "Requirement already satisfied: certifi>=2017.4.17 in /usr/local/lib/python3.11/dist-packages (from requests->kagglehub[pandas-datasets]) (2025.1.31)\n",
            "Requirement already satisfied: six>=1.5 in /usr/local/lib/python3.11/dist-packages (from python-dateutil>=2.8.2->pandas->kagglehub[pandas-datasets]) (1.17.0)\n"
          ]
        }
      ],
      "source": [
        "!pip install kagglehub[pandas-datasets]\n",
        "\n",
        "import kagglehub\n",
        "from kagglehub import KaggleDatasetAdapter\n",
        "import pandas as pd\n"
      ]
    },
    {
      "cell_type": "code",
      "source": [
        "file_path = \"spotify-2023.csv\""
      ],
      "metadata": {
        "id": "4Ev_AznIp3jB"
      },
      "execution_count": 2,
      "outputs": []
    },
    {
      "cell_type": "code",
      "source": [
        "df = kagglehub.load_dataset(\n",
        "        KaggleDatasetAdapter.PANDAS,\n",
        "        \"nelgiriyewithana/top-spotify-songs-2023\",\n",
        "        file_path,\n",
        "        pandas_kwargs={\n",
        "            \"low_memory\": False,\n",
        "            \"encoding\": \"latin1\"  # Try 'latin1' to handle special characters\n",
        "        }\n",
        "    )\n",
        "print(\"Dataset loaded successfully.\")"
      ],
      "metadata": {
        "colab": {
          "base_uri": "https://localhost:8080/"
        },
        "id": "BGhs5PNIp4oV",
        "outputId": "a87726a7-435c-4213-bba1-e109817a687f"
      },
      "execution_count": 7,
      "outputs": [
        {
          "output_type": "stream",
          "name": "stderr",
          "text": [
            "<ipython-input-7-824f33057944>:1: DeprecationWarning: load_dataset is deprecated and will be removed in future version.\n",
            "  df = kagglehub.load_dataset(\n"
          ]
        },
        {
          "output_type": "stream",
          "name": "stdout",
          "text": [
            "Dataset loaded successfully.\n"
          ]
        }
      ]
    },
    {
      "cell_type": "code",
      "source": [
        "print(\"Shape of the dataset:\", df.shape)\n",
        "print(\"Columns in the dataset:\", df.columns.tolist())\n",
        "\n"
      ],
      "metadata": {
        "colab": {
          "base_uri": "https://localhost:8080/"
        },
        "id": "9bSgIjchp57k",
        "outputId": "6dd9084f-bc62-4393-e634-f09e6258e664"
      },
      "execution_count": 8,
      "outputs": [
        {
          "output_type": "stream",
          "name": "stdout",
          "text": [
            "Shape of the dataset: (953, 24)\n",
            "Columns in the dataset: ['track_name', 'artist(s)_name', 'artist_count', 'released_year', 'released_month', 'released_day', 'in_spotify_playlists', 'in_spotify_charts', 'streams', 'in_apple_playlists', 'in_apple_charts', 'in_deezer_playlists', 'in_deezer_charts', 'in_shazam_charts', 'bpm', 'key', 'mode', 'danceability_%', 'valence_%', 'energy_%', 'acousticness_%', 'instrumentalness_%', 'liveness_%', 'speechiness_%']\n"
          ]
        }
      ]
    },
    {
      "cell_type": "code",
      "source": [
        "import pandas as pd\n",
        "print(\"Dataset Info:\")\n",
        "print(df.info())\n",
        "print(\"\\nFirst 5 Rows:\")\n",
        "print(df.head())"
      ],
      "metadata": {
        "colab": {
          "base_uri": "https://localhost:8080/"
        },
        "id": "Q70_c7fZq2rE",
        "outputId": "3e111329-209c-4e09-eeea-7b2587e9d98b"
      },
      "execution_count": 37,
      "outputs": [
        {
          "output_type": "stream",
          "name": "stdout",
          "text": [
            "Dataset Info:\n",
            "<class 'pandas.core.frame.DataFrame'>\n",
            "Index: 952 entries, 0 to 952\n",
            "Data columns (total 24 columns):\n",
            " #   Column                Non-Null Count  Dtype  \n",
            "---  ------                --------------  -----  \n",
            " 0   track_name            952 non-null    object \n",
            " 1   artist(s)_name        952 non-null    object \n",
            " 2   artist_count          952 non-null    int64  \n",
            " 3   released_year         952 non-null    int64  \n",
            " 4   released_month        952 non-null    int64  \n",
            " 5   released_day          952 non-null    int64  \n",
            " 6   in_spotify_playlists  952 non-null    int64  \n",
            " 7   in_spotify_charts     952 non-null    int64  \n",
            " 8   streams               952 non-null    float64\n",
            " 9   in_apple_playlists    952 non-null    int64  \n",
            " 10  in_apple_charts       952 non-null    int64  \n",
            " 11  in_deezer_playlists   952 non-null    object \n",
            " 12  in_deezer_charts      952 non-null    int64  \n",
            " 13  in_shazam_charts      952 non-null    object \n",
            " 14  bpm                   952 non-null    int64  \n",
            " 15  key                   952 non-null    object \n",
            " 16  mode                  952 non-null    object \n",
            " 17  danceability_%        952 non-null    int64  \n",
            " 18  valence_%             952 non-null    int64  \n",
            " 19  energy_%              952 non-null    int64  \n",
            " 20  acousticness_%        952 non-null    int64  \n",
            " 21  instrumentalness_%    952 non-null    int64  \n",
            " 22  liveness_%            952 non-null    int64  \n",
            " 23  speechiness_%         952 non-null    int64  \n",
            "dtypes: float64(1), int64(17), object(6)\n",
            "memory usage: 185.9+ KB\n",
            "None\n",
            "\n",
            "First 5 Rows:\n",
            "                            track_name    artist(s)_name  artist_count  \\\n",
            "0  Seven (feat. Latto) (Explicit Ver.)  Latto, Jung Kook             2   \n",
            "1                                 LALA       Myke Towers             1   \n",
            "2                              vampire    Olivia Rodrigo             1   \n",
            "3                         Cruel Summer      Taylor Swift             1   \n",
            "4                       WHERE SHE GOES         Bad Bunny             1   \n",
            "\n",
            "   released_year  released_month  released_day  in_spotify_playlists  \\\n",
            "0           2023               7            14                   553   \n",
            "1           2023               3            23                  1474   \n",
            "2           2023               6            30                  1397   \n",
            "3           2019               8            23                  7858   \n",
            "4           2023               5            18                  3133   \n",
            "\n",
            "   in_spotify_charts      streams  in_apple_playlists  ...  bpm key   mode  \\\n",
            "0                147  141381703.0                  43  ...  125   B  Major   \n",
            "1                 48  133716286.0                  48  ...   92  C#  Major   \n",
            "2                113  140003974.0                  94  ...  138   F  Major   \n",
            "3                100  800840817.0                 116  ...  170   A  Major   \n",
            "4                 50  303236322.0                  84  ...  144   A  Minor   \n",
            "\n",
            "  danceability_%  valence_% energy_% acousticness_%  instrumentalness_%  \\\n",
            "0             80         89       83             31                   0   \n",
            "1             71         61       74              7                   0   \n",
            "2             51         32       53             17                   0   \n",
            "3             55         58       72             11                   0   \n",
            "4             65         23       80             14                  63   \n",
            "\n",
            "   liveness_%  speechiness_%  \n",
            "0           8              4  \n",
            "1          10              4  \n",
            "2          31              6  \n",
            "3          11             15  \n",
            "4          11              6  \n",
            "\n",
            "[5 rows x 24 columns]\n"
          ]
        }
      ]
    },
    {
      "cell_type": "code",
      "source": [
        "import pandas as pd\n",
        "from sklearn.preprocessing import StandardScaler\n",
        "from sklearn.neighbors import NearestNeighbors\n",
        "\n",
        "numerical_features = [\n",
        "    'danceability_%','energy_%'\n",
        "]\n",
        "df_features = df[numerical_features]\n",
        "\n",
        "scaler = StandardScaler()\n",
        "df_scaled = pd.DataFrame(\n",
        "    scaler.fit_transform(df_features),\n",
        "    columns=numerical_features,\n",
        "    index=df.index\n",
        ")\n",
        "knn = NearestNeighbors(n_neighbors=6, algorithm='auto', metric='euclidean')\n",
        "knn.fit(df_scaled)\n",
        "\n",
        "print(\"KNN model trained successfully with features:\", numerical_features)"
      ],
      "metadata": {
        "colab": {
          "base_uri": "https://localhost:8080/"
        },
        "id": "aiS5EvyyrVs6",
        "outputId": "0df053f4-8e43-4169-9f7e-63213e816da2"
      },
      "execution_count": 23,
      "outputs": [
        {
          "output_type": "stream",
          "name": "stdout",
          "text": [
            "KNN model trained successfully with features: ['danceability_%', 'energy_%']\n"
          ]
        }
      ]
    },
    {
      "cell_type": "code",
      "source": [],
      "metadata": {
        "id": "BgErKqrqrZHY"
      },
      "execution_count": 18,
      "outputs": []
    },
    {
      "cell_type": "code",
      "source": [
        "def recommend_songs(song_name: str, df: pd.DataFrame, df_scaled: pd.DataFrame, knn: NearestNeighbors, top_n: int = 5):\n",
        "    song_indices = df[df['track_name'].str.lower() == song_name.lower()].index\n",
        "\n",
        "    if len(song_indices) == 0:\n",
        "        return \"Song not found in the dataset. Please check the name and try again.\"\n",
        "\n",
        "    #first matching song's index\n",
        "    song_index = song_indices[0]\n",
        "\n",
        "    # Get scaled features for the song\n",
        "    song_features = df_scaled.iloc[song_index].values.reshape(1, -1)\n",
        "\n",
        "    distances, indices = knn.kneighbors(song_features)\n",
        "\n",
        "    recommended_indices = indices[0][1:top_n+1]\n",
        "\n",
        "    output_columns = ['track_name', 'artist(s)_name'] + [\n",
        "        'danceability_%', 'energy_%','valence_%' ]\n",
        "    recommendations = df.iloc[recommended_indices][output_columns]\n",
        "\n",
        "\n",
        "    print(f\"Recommendations for '{song_name}':\")\n",
        "    return recommendations\n",
        "if __name__ == \"__main__\":\n",
        "    song_input = \"Blinding Lights\"\n",
        "    recommendations = recommend_songs(song_input, df, df_scaled, knn)\n",
        "    print(recommendations)"
      ],
      "metadata": {
        "colab": {
          "base_uri": "https://localhost:8080/"
        },
        "id": "vLBJKnaKrjSR",
        "outputId": "ebb2ce30-047a-4e0c-d3e9-44c2f9dc2293"
      },
      "execution_count": 24,
      "outputs": [
        {
          "output_type": "stream",
          "name": "stdout",
          "text": [
            "Recommendations for 'Blinding Lights':\n",
            "                       track_name            artist(s)_name  danceability_%  \\\n",
            "395                    Space Song               Beach House              51   \n",
            "450           Underneath the Tree            Kelly Clarkson              51   \n",
            "772  Cooped Up (with Roddy Ricch)  Post Malone, Roddy Ricch              50   \n",
            "451                 Feliz Navidad           Josï¿½ï¿½ Felic              50   \n",
            "304               SORRY NOT SORRY        Tyler, The Creator              48   \n",
            "\n",
            "     energy_%  valence_%  \n",
            "395        79         62  \n",
            "450        81         69  \n",
            "772        78         39  \n",
            "451        82         96  \n",
            "304        80         50  \n"
          ]
        },
        {
          "output_type": "stream",
          "name": "stderr",
          "text": [
            "/usr/local/lib/python3.11/dist-packages/sklearn/utils/validation.py:2739: UserWarning: X does not have valid feature names, but NearestNeighbors was fitted with feature names\n",
            "  warnings.warn(\n"
          ]
        }
      ]
    },
    {
      "cell_type": "code",
      "source": [
        "song_input = \"Feliz Navidad\"\n",
        "recommendations = recommend_songs(song_input, df, df_scaled, knn)\n",
        "print(recommendations)"
      ],
      "metadata": {
        "colab": {
          "base_uri": "https://localhost:8080/"
        },
        "id": "g_U0cw5jzaAc",
        "outputId": "13304b5e-c279-43b3-c936-3fc8184257b0"
      },
      "execution_count": 25,
      "outputs": [
        {
          "output_type": "stream",
          "name": "stdout",
          "text": [
            "Recommendations for 'Feliz Navidad':\n",
            "              track_name       artist(s)_name  danceability_%  energy_%  \\\n",
            "793    House Of Memories  Panic! At The Disco              51        82   \n",
            "450  Underneath the Tree       Kelly Clarkson              51        81   \n",
            "55       Blinding Lights           The Weeknd              50        80   \n",
            "768      United In Grief       Kendrick Lamar              52        83   \n",
            "304      SORRY NOT SORRY   Tyler, The Creator              48        80   \n",
            "\n",
            "     valence_%  \n",
            "793         48  \n",
            "450         69  \n",
            "55          38  \n",
            "768         32  \n",
            "304         50  \n"
          ]
        },
        {
          "output_type": "stream",
          "name": "stderr",
          "text": [
            "/usr/local/lib/python3.11/dist-packages/sklearn/utils/validation.py:2739: UserWarning: X does not have valid feature names, but NearestNeighbors was fitted with feature names\n",
            "  warnings.warn(\n"
          ]
        }
      ]
    },
    {
      "cell_type": "markdown",
      "source": [
        "**NEXT IS DATASPLIT AND USE DIFFERENT DATASET TO WORK ON**"
      ],
      "metadata": {
        "id": "K6TkoVhq40gG"
      }
    },
    {
      "cell_type": "code",
      "source": [
        "import pandas as pd\n",
        "import numpy as np\n",
        "\n",
        "n = len(df)\n",
        "split_indices = [n//3, 2*n//3]\n",
        "\n",
        "# Split the dataset\n",
        "df_part1, df_part2, df_part3 = np.split(df, split_indices)\n",
        "\n",
        "# Print shapes\n",
        "print(\"Shape of Part 1:\", df_part1.shape)\n",
        "print(\"Shape of Part 2:\", df_part2.shape)\n",
        "print(\"Shape of Part 3:\", df_part3.shape)"
      ],
      "metadata": {
        "colab": {
          "base_uri": "https://localhost:8080/"
        },
        "id": "3EfRdB1y1B6x",
        "outputId": "4843d104-f0a0-4214-bb82-2516066db113"
      },
      "execution_count": 26,
      "outputs": [
        {
          "output_type": "stream",
          "name": "stdout",
          "text": [
            "Shape of Part 1: (317, 24)\n",
            "Shape of Part 2: (317, 24)\n",
            "Shape of Part 3: (318, 24)\n"
          ]
        },
        {
          "output_type": "stream",
          "name": "stderr",
          "text": [
            "/usr/local/lib/python3.11/dist-packages/numpy/_core/fromnumeric.py:57: FutureWarning: 'DataFrame.swapaxes' is deprecated and will be removed in a future version. Please use 'DataFrame.transpose' instead.\n",
            "  return bound(*args, **kwds)\n"
          ]
        }
      ]
    },
    {
      "cell_type": "code",
      "source": [
        "import pandas as pd\n",
        "from sklearn.preprocessing import StandardScaler\n",
        "from sklearn.neighbors import NearestNeighbors\n",
        "\n",
        "def master_recommend_songs(song_name: str, main_df: pd.DataFrame, split_df: pd.DataFrame, top_n: int = 5, features: list = ['danceability_%', 'energy_%', 'valence_%']):\n",
        "\n",
        "    song_indices = main_df[main_df['track_name'].str.lower() == song_name.lower()].index\n",
        "    if len(song_indices) == 0:\n",
        "        return f\"Song '{song_name}' not found in main dataset.\"\n",
        "\n",
        "    song_index = song_indices[0]\n",
        "\n",
        "    df_features = split_df[features]\n",
        "    scaler = StandardScaler()\n",
        "    df_scaled = pd.DataFrame(\n",
        "        scaler.fit_transform(df_features),\n",
        "        columns=features,\n",
        "        index=split_df.index\n",
        "    )\n",
        "    knn = NearestNeighbors(n_neighbors=top_n+1, algorithm='auto', metric='euclidean')\n",
        "    knn.fit(df_scaled)\n",
        "\n",
        "    main_features = main_df.iloc[song_index][features].values.reshape(1, -1)\n",
        "    song_features = scaler.transform(main_features)\n",
        "\n",
        "    distances, indices = knn.kneighbors(song_features)\n",
        "    recommended_indices = indices[0][:top_n]\n",
        "\n",
        "    output_columns = ['track_name', 'artist(s)_name'] + features\n",
        "    recommendations = split_df.iloc[recommended_indices][output_columns]\n",
        "\n",
        "    print(f\"Recommendations for '{song_name}' from split ({len(split_df)} rows):\")\n",
        "    return recommendations"
      ],
      "metadata": {
        "id": "5q53Tn-X1E8U"
      },
      "execution_count": 31,
      "outputs": []
    },
    {
      "cell_type": "code",
      "source": [
        "\n",
        "song_input = \"Blinding Lights\"\n",
        "recommendations1 = master_recommend_songs(song_input, df, df_part1)\n",
        "print(recommendations1)"
      ],
      "metadata": {
        "colab": {
          "base_uri": "https://localhost:8080/"
        },
        "id": "6-tyFUFE2E8t",
        "outputId": "422a35d6-c88b-472b-8ca5-e17418abeb6b"
      },
      "execution_count": 32,
      "outputs": [
        {
          "output_type": "stream",
          "name": "stdout",
          "text": [
            "Recommendations for 'Blinding Lights' from split (317 rows):\n",
            "          track_name      artist(s)_name  danceability_%  energy_%  valence_%\n",
            "55   Blinding Lights          The Weeknd              50        80         38\n",
            "255         Curtains          Ed Sheeran              50        76         44\n",
            "116           Tattoo              Loreen              55        78         30\n",
            "304  SORRY NOT SORRY  Tyler, The Creator              48        80         50\n",
            "243      Unstoppable                 Sia              47        78         27\n"
          ]
        },
        {
          "output_type": "stream",
          "name": "stderr",
          "text": [
            "/usr/local/lib/python3.11/dist-packages/sklearn/utils/validation.py:2739: UserWarning: X does not have valid feature names, but StandardScaler was fitted with feature names\n",
            "  warnings.warn(\n",
            "/usr/local/lib/python3.11/dist-packages/sklearn/utils/validation.py:2739: UserWarning: X does not have valid feature names, but NearestNeighbors was fitted with feature names\n",
            "  warnings.warn(\n"
          ]
        }
      ]
    },
    {
      "cell_type": "code",
      "source": [
        "\n",
        "song_input = \"Blinding Lights\"\n",
        "recommendations2 = master_recommend_songs(song_input, df, df_part2)\n",
        "print(recommendations2)"
      ],
      "metadata": {
        "colab": {
          "base_uri": "https://localhost:8080/"
        },
        "id": "qfumahgA2GQY",
        "outputId": "27291089-bb7e-4286-e944-c74e728c2020"
      },
      "execution_count": 33,
      "outputs": [
        {
          "output_type": "stream",
          "name": "stdout",
          "text": [
            "Recommendations for 'Blinding Lights' from split (317 rows):\n",
            "                             track_name              artist(s)_name  \\\n",
            "479          Wild Flower (with youjeen)                          RM   \n",
            "394                 Escapism. - Sped Up             RAYE, 070 Shake   \n",
            "347  Man Made A Bar (feat. Eric Church)  Morgan Wallen, Eric Church   \n",
            "473                                 F2F                         SZA   \n",
            "511                      Less Than Zero                  The Weeknd   \n",
            "\n",
            "     danceability_%  energy_%  valence_%  \n",
            "479              49        77         42  \n",
            "394              44        77         38  \n",
            "347              50        76         49  \n",
            "473              53        74         47  \n",
            "511              53        79         50  \n"
          ]
        },
        {
          "output_type": "stream",
          "name": "stderr",
          "text": [
            "/usr/local/lib/python3.11/dist-packages/sklearn/utils/validation.py:2739: UserWarning: X does not have valid feature names, but StandardScaler was fitted with feature names\n",
            "  warnings.warn(\n",
            "/usr/local/lib/python3.11/dist-packages/sklearn/utils/validation.py:2739: UserWarning: X does not have valid feature names, but NearestNeighbors was fitted with feature names\n",
            "  warnings.warn(\n"
          ]
        }
      ]
    },
    {
      "cell_type": "code",
      "source": [
        "\n",
        "song_input = \"Blinding Lights\"\n",
        "recommendations3 = master_recommend_songs(song_input, df, df_part3)\n",
        "print(recommendations3)"
      ],
      "metadata": {
        "colab": {
          "base_uri": "https://localhost:8080/"
        },
        "id": "6DPguQ-m2H2P",
        "outputId": "a9600cc0-8839-42d0-8a70-96837bb0cb07"
      },
      "execution_count": 34,
      "outputs": [
        {
          "output_type": "stream",
          "name": "stdout",
          "text": [
            "Recommendations for 'Blinding Lights' from split (318 rows):\n",
            "                       track_name            artist(s)_name  danceability_%  \\\n",
            "772  Cooped Up (with Roddy Ricch)  Post Malone, Roddy Ricch              50   \n",
            "768               United In Grief            Kendrick Lamar              52   \n",
            "818                     SPACE MAN                 Sam Ryder              47   \n",
            "817    10 Things I Hate About You                 Leah Kate              54   \n",
            "684                   Alien Blues                  Vundabar              47   \n",
            "\n",
            "     energy_%  valence_%  \n",
            "772        78         39  \n",
            "768        83         32  \n",
            "818        83         33  \n",
            "817        79         45  \n",
            "684        76         44  \n"
          ]
        },
        {
          "output_type": "stream",
          "name": "stderr",
          "text": [
            "/usr/local/lib/python3.11/dist-packages/sklearn/utils/validation.py:2739: UserWarning: X does not have valid feature names, but StandardScaler was fitted with feature names\n",
            "  warnings.warn(\n",
            "/usr/local/lib/python3.11/dist-packages/sklearn/utils/validation.py:2739: UserWarning: X does not have valid feature names, but NearestNeighbors was fitted with feature names\n",
            "  warnings.warn(\n"
          ]
        }
      ]
    }
  ]
}