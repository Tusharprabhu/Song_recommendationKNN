{
  "nbformat": 4,
  "nbformat_minor": 0,
  "metadata": {
    "colab": {
      "provenance": [],
      "authorship_tag": "ABX9TyPtabjHa9FG4HLJTjwSI5+p",
      "include_colab_link": true
    },
    "kernelspec": {
      "name": "python3",
      "display_name": "Python 3"
    },
    "language_info": {
      "name": "python"
    }
  },
  "cells": [
    {
      "cell_type": "markdown",
      "metadata": {
        "id": "view-in-github",
        "colab_type": "text"
      },
      "source": [
        "<a href=\"https://colab.research.google.com/github/Tusharprabhu/Song_recommendationKNN/blob/main/newDataset.ipynb\" target=\"_parent\"><img src=\"https://colab.research.google.com/assets/colab-badge.svg\" alt=\"Open In Colab\"/></a>"
      ]
    },
    {
      "cell_type": "code",
      "execution_count": 1,
      "metadata": {
        "colab": {
          "base_uri": "https://localhost:8080/"
        },
        "id": "jTvjaLbOowdK",
        "outputId": "4d69ce5a-edcd-460b-c2ed-1bbf5ccd4126"
      },
      "outputs": [
        {
          "output_type": "stream",
          "name": "stdout",
          "text": [
            "Requirement already satisfied: kagglehub[pandas-datasets] in /usr/local/lib/python3.11/dist-packages (0.3.11)\n",
            "Requirement already satisfied: packaging in /usr/local/lib/python3.11/dist-packages (from kagglehub[pandas-datasets]) (24.2)\n",
            "Requirement already satisfied: pyyaml in /usr/local/lib/python3.11/dist-packages (from kagglehub[pandas-datasets]) (6.0.2)\n",
            "Requirement already satisfied: requests in /usr/local/lib/python3.11/dist-packages (from kagglehub[pandas-datasets]) (2.32.3)\n",
            "Requirement already satisfied: tqdm in /usr/local/lib/python3.11/dist-packages (from kagglehub[pandas-datasets]) (4.67.1)\n",
            "Requirement already satisfied: pandas in /usr/local/lib/python3.11/dist-packages (from kagglehub[pandas-datasets]) (2.2.2)\n",
            "Requirement already satisfied: numpy>=1.23.2 in /usr/local/lib/python3.11/dist-packages (from pandas->kagglehub[pandas-datasets]) (2.0.2)\n",
            "Requirement already satisfied: python-dateutil>=2.8.2 in /usr/local/lib/python3.11/dist-packages (from pandas->kagglehub[pandas-datasets]) (2.8.2)\n",
            "Requirement already satisfied: pytz>=2020.1 in /usr/local/lib/python3.11/dist-packages (from pandas->kagglehub[pandas-datasets]) (2025.2)\n",
            "Requirement already satisfied: tzdata>=2022.7 in /usr/local/lib/python3.11/dist-packages (from pandas->kagglehub[pandas-datasets]) (2025.2)\n",
            "Requirement already satisfied: charset-normalizer<4,>=2 in /usr/local/lib/python3.11/dist-packages (from requests->kagglehub[pandas-datasets]) (3.4.1)\n",
            "Requirement already satisfied: idna<4,>=2.5 in /usr/local/lib/python3.11/dist-packages (from requests->kagglehub[pandas-datasets]) (3.10)\n",
            "Requirement already satisfied: urllib3<3,>=1.21.1 in /usr/local/lib/python3.11/dist-packages (from requests->kagglehub[pandas-datasets]) (2.3.0)\n",
            "Requirement already satisfied: certifi>=2017.4.17 in /usr/local/lib/python3.11/dist-packages (from requests->kagglehub[pandas-datasets]) (2025.1.31)\n",
            "Requirement already satisfied: six>=1.5 in /usr/local/lib/python3.11/dist-packages (from python-dateutil>=2.8.2->pandas->kagglehub[pandas-datasets]) (1.17.0)\n"
          ]
        }
      ],
      "source": [
        "!pip install kagglehub[pandas-datasets]  # Note: In Colab, use ! for pip commands\n",
        "\n",
        "import kagglehub\n",
        "from kagglehub import KaggleDatasetAdapter\n",
        "import pandas as pd\n"
      ]
    },
    {
      "cell_type": "code",
      "source": [
        "file_path = \"spotify-2023.csv\"  # Adjust if the file name is different"
      ],
      "metadata": {
        "id": "4Ev_AznIp3jB"
      },
      "execution_count": 2,
      "outputs": []
    },
    {
      "cell_type": "code",
      "source": [
        "df = kagglehub.load_dataset(\n",
        "        KaggleDatasetAdapter.PANDAS,\n",
        "        \"nelgiriyewithana/top-spotify-songs-2023\",\n",
        "        file_path,\n",
        "        pandas_kwargs={\n",
        "            \"low_memory\": False,\n",
        "            \"encoding\": \"latin1\"  # Try 'latin1' to handle special characters\n",
        "        }\n",
        "    )\n",
        "print(\"Dataset loaded successfully.\")"
      ],
      "metadata": {
        "colab": {
          "base_uri": "https://localhost:8080/"
        },
        "id": "BGhs5PNIp4oV",
        "outputId": "a87726a7-435c-4213-bba1-e109817a687f"
      },
      "execution_count": 7,
      "outputs": [
        {
          "output_type": "stream",
          "name": "stderr",
          "text": [
            "<ipython-input-7-824f33057944>:1: DeprecationWarning: load_dataset is deprecated and will be removed in future version.\n",
            "  df = kagglehub.load_dataset(\n"
          ]
        },
        {
          "output_type": "stream",
          "name": "stdout",
          "text": [
            "Dataset loaded successfully.\n"
          ]
        }
      ]
    },
    {
      "cell_type": "code",
      "source": [
        "print(\"Shape of the dataset:\", df.shape)\n",
        "print(\"Columns in the dataset:\", df.columns.tolist())\n",
        "\n"
      ],
      "metadata": {
        "colab": {
          "base_uri": "https://localhost:8080/"
        },
        "id": "9bSgIjchp57k",
        "outputId": "6dd9084f-bc62-4393-e634-f09e6258e664"
      },
      "execution_count": 8,
      "outputs": [
        {
          "output_type": "stream",
          "name": "stdout",
          "text": [
            "Shape of the dataset: (953, 24)\n",
            "Columns in the dataset: ['track_name', 'artist(s)_name', 'artist_count', 'released_year', 'released_month', 'released_day', 'in_spotify_playlists', 'in_spotify_charts', 'streams', 'in_apple_playlists', 'in_apple_charts', 'in_deezer_playlists', 'in_deezer_charts', 'in_shazam_charts', 'bpm', 'key', 'mode', 'danceability_%', 'valence_%', 'energy_%', 'acousticness_%', 'instrumentalness_%', 'liveness_%', 'speechiness_%']\n"
          ]
        }
      ]
    },
    {
      "cell_type": "code",
      "source": [
        "import pandas as pd\n",
        "\n",
        "# Print basic info about the dataset\n",
        "print(\"Dataset Info:\")\n",
        "print(df.info())  # Shows data types and non-null counts\n",
        "\n",
        "# Check for missing values\n",
        "print(\"\\nMissing Values:\")\n",
        "print(df.isnull().sum())\n",
        "\n",
        "# Optional: Show first 5 rows to understand the data\n",
        "print(\"\\nFirst 5 Rows:\")\n",
        "print(df.head())"
      ],
      "metadata": {
        "colab": {
          "base_uri": "https://localhost:8080/"
        },
        "id": "Q70_c7fZq2rE",
        "outputId": "0761aa82-ff04-48f2-a5b9-b24b825440de"
      },
      "execution_count": 9,
      "outputs": [
        {
          "output_type": "stream",
          "name": "stdout",
          "text": [
            "Dataset Info:\n",
            "<class 'pandas.core.frame.DataFrame'>\n",
            "RangeIndex: 953 entries, 0 to 952\n",
            "Data columns (total 24 columns):\n",
            " #   Column                Non-Null Count  Dtype \n",
            "---  ------                --------------  ----- \n",
            " 0   track_name            953 non-null    object\n",
            " 1   artist(s)_name        953 non-null    object\n",
            " 2   artist_count          953 non-null    int64 \n",
            " 3   released_year         953 non-null    int64 \n",
            " 4   released_month        953 non-null    int64 \n",
            " 5   released_day          953 non-null    int64 \n",
            " 6   in_spotify_playlists  953 non-null    int64 \n",
            " 7   in_spotify_charts     953 non-null    int64 \n",
            " 8   streams               953 non-null    object\n",
            " 9   in_apple_playlists    953 non-null    int64 \n",
            " 10  in_apple_charts       953 non-null    int64 \n",
            " 11  in_deezer_playlists   953 non-null    object\n",
            " 12  in_deezer_charts      953 non-null    int64 \n",
            " 13  in_shazam_charts      903 non-null    object\n",
            " 14  bpm                   953 non-null    int64 \n",
            " 15  key                   858 non-null    object\n",
            " 16  mode                  953 non-null    object\n",
            " 17  danceability_%        953 non-null    int64 \n",
            " 18  valence_%             953 non-null    int64 \n",
            " 19  energy_%              953 non-null    int64 \n",
            " 20  acousticness_%        953 non-null    int64 \n",
            " 21  instrumentalness_%    953 non-null    int64 \n",
            " 22  liveness_%            953 non-null    int64 \n",
            " 23  speechiness_%         953 non-null    int64 \n",
            "dtypes: int64(17), object(7)\n",
            "memory usage: 178.8+ KB\n",
            "None\n",
            "\n",
            "Missing Values:\n",
            "track_name               0\n",
            "artist(s)_name           0\n",
            "artist_count             0\n",
            "released_year            0\n",
            "released_month           0\n",
            "released_day             0\n",
            "in_spotify_playlists     0\n",
            "in_spotify_charts        0\n",
            "streams                  0\n",
            "in_apple_playlists       0\n",
            "in_apple_charts          0\n",
            "in_deezer_playlists      0\n",
            "in_deezer_charts         0\n",
            "in_shazam_charts        50\n",
            "bpm                      0\n",
            "key                     95\n",
            "mode                     0\n",
            "danceability_%           0\n",
            "valence_%                0\n",
            "energy_%                 0\n",
            "acousticness_%           0\n",
            "instrumentalness_%       0\n",
            "liveness_%               0\n",
            "speechiness_%            0\n",
            "dtype: int64\n",
            "\n",
            "First 5 Rows:\n",
            "                            track_name    artist(s)_name  artist_count  \\\n",
            "0  Seven (feat. Latto) (Explicit Ver.)  Latto, Jung Kook             2   \n",
            "1                                 LALA       Myke Towers             1   \n",
            "2                              vampire    Olivia Rodrigo             1   \n",
            "3                         Cruel Summer      Taylor Swift             1   \n",
            "4                       WHERE SHE GOES         Bad Bunny             1   \n",
            "\n",
            "   released_year  released_month  released_day  in_spotify_playlists  \\\n",
            "0           2023               7            14                   553   \n",
            "1           2023               3            23                  1474   \n",
            "2           2023               6            30                  1397   \n",
            "3           2019               8            23                  7858   \n",
            "4           2023               5            18                  3133   \n",
            "\n",
            "   in_spotify_charts    streams  in_apple_playlists  ...  bpm key   mode  \\\n",
            "0                147  141381703                  43  ...  125   B  Major   \n",
            "1                 48  133716286                  48  ...   92  C#  Major   \n",
            "2                113  140003974                  94  ...  138   F  Major   \n",
            "3                100  800840817                 116  ...  170   A  Major   \n",
            "4                 50  303236322                  84  ...  144   A  Minor   \n",
            "\n",
            "  danceability_%  valence_% energy_% acousticness_%  instrumentalness_%  \\\n",
            "0             80         89       83             31                   0   \n",
            "1             71         61       74              7                   0   \n",
            "2             51         32       53             17                   0   \n",
            "3             55         58       72             11                   0   \n",
            "4             65         23       80             14                  63   \n",
            "\n",
            "   liveness_%  speechiness_%  \n",
            "0           8              4  \n",
            "1          10              4  \n",
            "2          31              6  \n",
            "3          11             15  \n",
            "4          11              6  \n",
            "\n",
            "[5 rows x 24 columns]\n"
          ]
        }
      ]
    },
    {
      "cell_type": "code",
      "source": [
        "df['key'].fillna(df['key'].mode()[0], inplace=True)  # Fill missing 'key' with most common value\n",
        "df['in_shazam_charts'].fillna(0, inplace=True)  # Fill missing 'in_shazam_charts' with 0\n",
        "\n",
        "# Convert 'streams' to numeric, handle errors\n",
        "df['streams'] = pd.to_numeric(df['streams'], errors='coerce')\n",
        "df.dropna(subset=['streams'], inplace=True)  # Drop rows where 'streams' is invalid\n",
        "\n",
        "# Verify changes\n",
        "print(\"Missing Values After Cleaning:\")\n",
        "print(df.isnull().sum())\n",
        "print(\"\\nData Types:\")\n",
        "print(df.dtypes)"
      ],
      "metadata": {
        "colab": {
          "base_uri": "https://localhost:8080/"
        },
        "id": "K2zAjrwUrAfA",
        "outputId": "d10384c3-c7e7-4cd6-b60f-a975dba4b16d"
      },
      "execution_count": 10,
      "outputs": [
        {
          "output_type": "stream",
          "name": "stdout",
          "text": [
            "Missing Values After Cleaning:\n",
            "track_name              0\n",
            "artist(s)_name          0\n",
            "artist_count            0\n",
            "released_year           0\n",
            "released_month          0\n",
            "released_day            0\n",
            "in_spotify_playlists    0\n",
            "in_spotify_charts       0\n",
            "streams                 0\n",
            "in_apple_playlists      0\n",
            "in_apple_charts         0\n",
            "in_deezer_playlists     0\n",
            "in_deezer_charts        0\n",
            "in_shazam_charts        0\n",
            "bpm                     0\n",
            "key                     0\n",
            "mode                    0\n",
            "danceability_%          0\n",
            "valence_%               0\n",
            "energy_%                0\n",
            "acousticness_%          0\n",
            "instrumentalness_%      0\n",
            "liveness_%              0\n",
            "speechiness_%           0\n",
            "dtype: int64\n",
            "\n",
            "Data Types:\n",
            "track_name               object\n",
            "artist(s)_name           object\n",
            "artist_count              int64\n",
            "released_year             int64\n",
            "released_month            int64\n",
            "released_day              int64\n",
            "in_spotify_playlists      int64\n",
            "in_spotify_charts         int64\n",
            "streams                 float64\n",
            "in_apple_playlists        int64\n",
            "in_apple_charts           int64\n",
            "in_deezer_playlists      object\n",
            "in_deezer_charts          int64\n",
            "in_shazam_charts         object\n",
            "bpm                       int64\n",
            "key                      object\n",
            "mode                     object\n",
            "danceability_%            int64\n",
            "valence_%                 int64\n",
            "energy_%                  int64\n",
            "acousticness_%            int64\n",
            "instrumentalness_%        int64\n",
            "liveness_%                int64\n",
            "speechiness_%             int64\n",
            "dtype: object\n"
          ]
        },
        {
          "output_type": "stream",
          "name": "stderr",
          "text": [
            "<ipython-input-10-7348fd6fb380>:1: FutureWarning: A value is trying to be set on a copy of a DataFrame or Series through chained assignment using an inplace method.\n",
            "The behavior will change in pandas 3.0. This inplace method will never work because the intermediate object on which we are setting values always behaves as a copy.\n",
            "\n",
            "For example, when doing 'df[col].method(value, inplace=True)', try using 'df.method({col: value}, inplace=True)' or df[col] = df[col].method(value) instead, to perform the operation inplace on the original object.\n",
            "\n",
            "\n",
            "  df['key'].fillna(df['key'].mode()[0], inplace=True)  # Fill missing 'key' with most common value\n",
            "<ipython-input-10-7348fd6fb380>:2: FutureWarning: A value is trying to be set on a copy of a DataFrame or Series through chained assignment using an inplace method.\n",
            "The behavior will change in pandas 3.0. This inplace method will never work because the intermediate object on which we are setting values always behaves as a copy.\n",
            "\n",
            "For example, when doing 'df[col].method(value, inplace=True)', try using 'df.method({col: value}, inplace=True)' or df[col] = df[col].method(value) instead, to perform the operation inplace on the original object.\n",
            "\n",
            "\n",
            "  df['in_shazam_charts'].fillna(0, inplace=True)  # Fill missing 'in_shazam_charts' with 0\n"
          ]
        }
      ]
    },
    {
      "cell_type": "code",
      "source": [
        "import pandas as pd\n",
        "from sklearn.preprocessing import StandardScaler\n",
        "from sklearn.neighbors import NearestNeighbors\n",
        "\n",
        "# Select numerical features for KNN\n",
        "numerical_features = [\n",
        "    'danceability_%','energy_%'\n",
        "]\n",
        "\n",
        "# Create a new DataFrame with only numerical features\n",
        "df_features = df[numerical_features]\n",
        "\n",
        "# Standardize the features\n",
        "scaler = StandardScaler()\n",
        "df_scaled = pd.DataFrame(\n",
        "    scaler.fit_transform(df_features),\n",
        "    columns=numerical_features,\n",
        "    index=df.index  # Preserve index for alignment\n",
        ")\n",
        "\n",
        "# Initialize and train the KNN model\n",
        "knn = NearestNeighbors(n_neighbors=6, algorithm='auto', metric='euclidean')\n",
        "knn.fit(df_scaled)\n",
        "\n",
        "print(\"KNN model trained successfully with features:\", numerical_features)"
      ],
      "metadata": {
        "colab": {
          "base_uri": "https://localhost:8080/"
        },
        "id": "aiS5EvyyrVs6",
        "outputId": "0df053f4-8e43-4169-9f7e-63213e816da2"
      },
      "execution_count": 23,
      "outputs": [
        {
          "output_type": "stream",
          "name": "stdout",
          "text": [
            "KNN model trained successfully with features: ['danceability_%', 'energy_%']\n"
          ]
        }
      ]
    },
    {
      "cell_type": "code",
      "source": [],
      "metadata": {
        "id": "BgErKqrqrZHY"
      },
      "execution_count": 18,
      "outputs": []
    },
    {
      "cell_type": "code",
      "source": [
        "def recommend_songs(song_name: str, df: pd.DataFrame, df_scaled: pd.DataFrame, knn: NearestNeighbors, top_n: int = 5):\n",
        "\n",
        "    # Find the song (case-insensitive)\n",
        "    song_indices = df[df['track_name'].str.lower() == song_name.lower()].index\n",
        "\n",
        "    if len(song_indices) == 0:\n",
        "        return \"Song not found in the dataset. Please check the name and try again.\"\n",
        "\n",
        "    # Get the first matching song's index\n",
        "    song_index = song_indices[0]\n",
        "\n",
        "    # Get scaled features for the song\n",
        "    song_features = df_scaled.iloc[song_index].values.reshape(1, -1)\n",
        "\n",
        "    # Find nearest neighbors\n",
        "    distances, indices = knn.kneighbors(song_features)\n",
        "\n",
        "    # Get indices of recommended songs (exclude the input song)\n",
        "    recommended_indices = indices[0][1:top_n+1]\n",
        "\n",
        "    # Select columns to return: track_name, artist(s)_name, and KNN features\n",
        "    output_columns = ['track_name', 'artist(s)_name'] + [\n",
        "        'danceability_%', 'energy_%','valence_%' ]\n",
        "\n",
        "    # Return recommended songs\n",
        "    recommendations = df.iloc[recommended_indices][output_columns]\n",
        "    # Note: 'genres' not included as the dataset lacks a genres column\n",
        "\n",
        "    print(f\"Recommendations for '{song_name}':\")\n",
        "    return recommendations\n",
        "\n",
        "# Example usage\n",
        "if __name__ == \"__main__\":\n",
        "    song_input = \"Blinding Lights\"  # Replace with a song from your dataset\n",
        "    recommendations = recommend_songs(song_input, df, df_scaled, knn)\n",
        "    print(recommendations)"
      ],
      "metadata": {
        "colab": {
          "base_uri": "https://localhost:8080/"
        },
        "id": "vLBJKnaKrjSR",
        "outputId": "ebb2ce30-047a-4e0c-d3e9-44c2f9dc2293"
      },
      "execution_count": 24,
      "outputs": [
        {
          "output_type": "stream",
          "name": "stdout",
          "text": [
            "Recommendations for 'Blinding Lights':\n",
            "                       track_name            artist(s)_name  danceability_%  \\\n",
            "395                    Space Song               Beach House              51   \n",
            "450           Underneath the Tree            Kelly Clarkson              51   \n",
            "772  Cooped Up (with Roddy Ricch)  Post Malone, Roddy Ricch              50   \n",
            "451                 Feliz Navidad           Josï¿½ï¿½ Felic              50   \n",
            "304               SORRY NOT SORRY        Tyler, The Creator              48   \n",
            "\n",
            "     energy_%  valence_%  \n",
            "395        79         62  \n",
            "450        81         69  \n",
            "772        78         39  \n",
            "451        82         96  \n",
            "304        80         50  \n"
          ]
        },
        {
          "output_type": "stream",
          "name": "stderr",
          "text": [
            "/usr/local/lib/python3.11/dist-packages/sklearn/utils/validation.py:2739: UserWarning: X does not have valid feature names, but NearestNeighbors was fitted with feature names\n",
            "  warnings.warn(\n"
          ]
        }
      ]
    },
    {
      "cell_type": "code",
      "source": [
        "song_input = \"Feliz Navidad\"  # Replace with a song from your dataset\n",
        "recommendations = recommend_songs(song_input, df, df_scaled, knn)\n",
        "print(recommendations)"
      ],
      "metadata": {
        "colab": {
          "base_uri": "https://localhost:8080/"
        },
        "id": "g_U0cw5jzaAc",
        "outputId": "13304b5e-c279-43b3-c936-3fc8184257b0"
      },
      "execution_count": 25,
      "outputs": [
        {
          "output_type": "stream",
          "name": "stdout",
          "text": [
            "Recommendations for 'Feliz Navidad':\n",
            "              track_name       artist(s)_name  danceability_%  energy_%  \\\n",
            "793    House Of Memories  Panic! At The Disco              51        82   \n",
            "450  Underneath the Tree       Kelly Clarkson              51        81   \n",
            "55       Blinding Lights           The Weeknd              50        80   \n",
            "768      United In Grief       Kendrick Lamar              52        83   \n",
            "304      SORRY NOT SORRY   Tyler, The Creator              48        80   \n",
            "\n",
            "     valence_%  \n",
            "793         48  \n",
            "450         69  \n",
            "55          38  \n",
            "768         32  \n",
            "304         50  \n"
          ]
        },
        {
          "output_type": "stream",
          "name": "stderr",
          "text": [
            "/usr/local/lib/python3.11/dist-packages/sklearn/utils/validation.py:2739: UserWarning: X does not have valid feature names, but NearestNeighbors was fitted with feature names\n",
            "  warnings.warn(\n"
          ]
        }
      ]
    }
  ]
}